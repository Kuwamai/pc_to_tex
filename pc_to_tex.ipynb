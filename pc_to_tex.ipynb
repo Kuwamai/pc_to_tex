{
 "cells": [
  {
   "cell_type": "markdown",
   "metadata": {},
   "source": [
    "# pc_to_tex\n",
    "PointCloudShaderに必要な、点群データをテクスチャに書き込むスクリプト\n",
    "\n",
    "[![Open In Colab](https://colab.research.google.com/assets/colab-badge.svg)](https://colab.research.google.com/github/Kuwamai/pc_to_tex/blob/main/pc_to_tex.ipynb)"
   ]
  },
  {
   "cell_type": "markdown",
   "metadata": {},
   "source": [
    "## 使い方\n",
    "### 準備\n",
    "1. こちらの記事を参考に点群データを用意する\n",
    "    * [ソーシャルVRに点群を持ち込みたい - クワマイでもできる](https://kuwamai.hatenablog.com/entry/2020/12/17/013711)\n",
    "1. ↑の`Open in colab`をクリックしてGoogle colaboratolyで開く\n",
    "    * 場合によってはページが開かないので右クリックして`新しいタブで開く`を選択する必要があるかも\n",
    "1. 画面上の`ファイル`タブをクリックし、`ドライブにコピーを保存`をクリック\n",
    "1. 用意した点群データもGoogle driveにアップ"
   ]
  },
  {
   "cell_type": "code",
   "execution_count": 1,
   "metadata": {
    "executionInfo": {
     "elapsed": 823,
     "status": "ok",
     "timestamp": 1604748923037,
     "user": {
      "displayName": "Kuwagata Kuwamai",
      "photoUrl": "https://lh3.googleusercontent.com/a-/AOh14GjLA8hi9SezQboGVuTvdSnutMD-3-IwuV063OG4=s64",
      "userId": "01901402182521368572"
     },
     "user_tz": -540
    },
    "id": "1KzlxfyhjtZd"
   },
   "outputs": [],
   "source": [
    "import pandas as pd\n",
    "import numpy as np\n",
    "import matplotlib.pyplot as plt\n",
    "from PIL import Image\n",
    "import struct\n",
    "from google.colab import drive\n",
    "drive.mount(\"/content/drive\")"
   ]
  },
  {
   "cell_type": "markdown",
   "metadata": {},
   "source": [
    "### 設定\n",
    "1. 下記変数の`file_path`に、アップしたGoogle drive上のパスを記入する\n",
    "    * 例えば`マイドライブ`に`pc_to_tex`フォルダを作った場合は`drive/My Drive/pc_to_tex/`になる\n",
    "1. `pc_name`にアップした点群のファイル名を記入する\n",
    "1. `column_names`にそれぞれの列の名称$(x, y, z, r, g, b)$を記入する\n",
    "    * 記事と同じ手順なら変更の必要なし\n",
    "    * 座標系が異なる、法線など他のデータが含まれる際は適宜編集する\n",
    "1. `tex_width`に生成するテクスチャの幅を記入\n",
    "    * 記入した値の2乗の数の点が1枚のテクスチャに保存される\n",
    "    * 表示に使うメッシュのポリゴン数と合わせる必要があるので、わからなければ1024のままで大丈夫\n",
    "1. 点群ファイルの最初に点群取得位置などが含まれる場合は`skip_rows`に飛ばす行数を指定\n",
    "1. `center_pos`に点群の中心にしたい位置を記入\n",
    "    * $(x, y, z)$の要素の順番は`column_names`で指定したものと対応させる\n",
    "1. 画面上の`ランタイム/すべてのセルを実行`をクリック"
   ]
  },
  {
   "cell_type": "code",
   "execution_count": 2,
   "metadata": {},
   "outputs": [
    {
     "name": "stdout",
     "output_type": "stream",
     "text": [
      "↓データとヘッダー名が合ってるか確認\n"
     ]
    },
    {
     "data": {
      "text/html": [
       "<div>\n",
       "<style scoped>\n",
       "    .dataframe tbody tr th:only-of-type {\n",
       "        vertical-align: middle;\n",
       "    }\n",
       "\n",
       "    .dataframe tbody tr th {\n",
       "        vertical-align: top;\n",
       "    }\n",
       "\n",
       "    .dataframe thead th {\n",
       "        text-align: right;\n",
       "    }\n",
       "</style>\n",
       "<table border=\"1\" class=\"dataframe\">\n",
       "  <thead>\n",
       "    <tr style=\"text-align: right;\">\n",
       "      <th></th>\n",
       "      <th>x</th>\n",
       "      <th>z</th>\n",
       "      <th>y</th>\n",
       "      <th>ignore</th>\n",
       "      <th>r</th>\n",
       "      <th>g</th>\n",
       "      <th>b</th>\n",
       "    </tr>\n",
       "  </thead>\n",
       "  <tbody>\n",
       "    <tr>\n",
       "      <th>0</th>\n",
       "      <td>-11819.45117</td>\n",
       "      <td>-37896.38281</td>\n",
       "      <td>1.84618</td>\n",
       "      <td>-1514</td>\n",
       "      <td>127</td>\n",
       "      <td>117</td>\n",
       "      <td>125</td>\n",
       "    </tr>\n",
       "    <tr>\n",
       "      <th>1</th>\n",
       "      <td>-11819.35547</td>\n",
       "      <td>-37895.94141</td>\n",
       "      <td>5.01018</td>\n",
       "      <td>-2010</td>\n",
       "      <td>72</td>\n",
       "      <td>73</td>\n",
       "      <td>68</td>\n",
       "    </tr>\n",
       "    <tr>\n",
       "      <th>2</th>\n",
       "      <td>-11818.60938</td>\n",
       "      <td>-37893.49609</td>\n",
       "      <td>1.84621</td>\n",
       "      <td>-1536</td>\n",
       "      <td>120</td>\n",
       "      <td>108</td>\n",
       "      <td>108</td>\n",
       "    </tr>\n",
       "    <tr>\n",
       "      <th>3</th>\n",
       "      <td>-11818.58203</td>\n",
       "      <td>-37893.40234</td>\n",
       "      <td>5.94292</td>\n",
       "      <td>1379</td>\n",
       "      <td>141</td>\n",
       "      <td>148</td>\n",
       "      <td>164</td>\n",
       "    </tr>\n",
       "    <tr>\n",
       "      <th>4</th>\n",
       "      <td>-11816.41602</td>\n",
       "      <td>-37897.36719</td>\n",
       "      <td>1.84984</td>\n",
       "      <td>-1646</td>\n",
       "      <td>91</td>\n",
       "      <td>91</td>\n",
       "      <td>89</td>\n",
       "    </tr>\n",
       "  </tbody>\n",
       "</table>\n",
       "</div>"
      ],
      "text/plain": [
       "             x            z        y  ignore    r    g    b\n",
       "0 -11819.45117 -37896.38281  1.84618   -1514  127  117  125\n",
       "1 -11819.35547 -37895.94141  5.01018   -2010   72   73   68\n",
       "2 -11818.60938 -37893.49609  1.84621   -1536  120  108  108\n",
       "3 -11818.58203 -37893.40234  5.94292    1379  141  148  164\n",
       "4 -11816.41602 -37897.36719  1.84984   -1646   91   91   89"
      ]
     },
     "execution_count": 2,
     "metadata": {},
     "output_type": "execute_result"
    }
   ],
   "source": [
    "file_path = \"drive/My Drive/pc_to_tex/\"\n",
    "pc_name = \"ShibuyaUnderground.asc\"\n",
    "column_names = (\"x\", \"z\", \"y\", \"ignore\", \"r\", \"g\", \"b\")\n",
    "tex_width = 1024\n",
    "skiprows = 1\n",
    "center_pos = pd.DataFrame([(-11830.2, -37856, 3.82242)], columns=[\"x\", \"z\", \"y\"])\n",
    "pc = pd.read_table(file_path + pc_name, sep=\" \", header=None, names=column_names, skiprows=skiprows)\n",
    "\n",
    "print(\"↓データとヘッダー名が合ってるか確認\")\n",
    "pc.head()"
   ]
  },
  {
   "cell_type": "markdown",
   "metadata": {},
   "source": [
    "## 点位置をテクスチャに書き込む"
   ]
  },
  {
   "cell_type": "code",
   "execution_count": 3,
   "metadata": {},
   "outputs": [],
   "source": [
    "def save_tex(r, c, tex_width, tex_num):\n",
    "    pos_tex = np.pad(c, ((0, tex_width * 2 - c.shape[0]), (0,0), (0,0)), \"constant\")\n",
    "    pos_tex = Image.fromarray(np.uint8(np.round(pos_tex)))\n",
    "    pos_tex.save(file_path + \"pos\" + str(tex_num) + \".png\")"
   ]
  },
  {
   "cell_type": "code",
   "execution_count": 4,
   "metadata": {
    "executionInfo": {
     "elapsed": 18768,
     "status": "ok",
     "timestamp": 1604748974573,
     "user": {
      "displayName": "Kuwagata Kuwamai",
      "photoUrl": "https://lh3.googleusercontent.com/a-/AOh14GjLA8hi9SezQboGVuTvdSnutMD-3-IwuV063OG4=s64",
      "userId": "01901402182521368572"
     },
     "user_tz": -540
    },
    "id": "xez8yU9cyunH"
   },
   "outputs": [],
   "source": [
    "tex_num = 0\n",
    "pc[[\"x\", \"y\", \"z\"]] = pc[[\"x\", \"y\", \"z\"]] - center_pos[[\"x\", \"y\", \"z\"]].values\n",
    "\n",
    "for i, pos in enumerate(zip(pc[\"x\"], pc[\"y\"], pc[\"z\"])):\n",
    "    if i % tex_width ** 2 == 0:\n",
    "        if not i == 0:\n",
    "            save_tex(r, c, tex_width, tex_num)\n",
    "            tex_num += 1\n",
    "        \n",
    "        r = np.empty((2, 0, 3))\n",
    "        c = np.empty((0, tex_width * 2, 3))\n",
    "    \n",
    "    if i % tex_width * 2 == 0:\n",
    "        if not i % tex_width ** 2== 0:\n",
    "            c = np.append(c, r, axis=0)\n",
    "            r = np.empty((2, 0, 3))\n",
    "    \n",
    "    a = np.empty((2, 2, 0))\n",
    "    \n",
    "    for xyz in pos:\n",
    "        xs = struct.pack('>f', xyz)\n",
    "        xn = struct.unpack('>L', xs)[0]\n",
    "        b = np.array([[[xn >> 0 & 0xff],[xn >> 8 & 0xff]],\n",
    "                      [[xn >> 16 & 0xff],[xn >> 24 & 0xff]]])\n",
    "        a = np.append(a, b, axis=2)\n",
    "    \n",
    "    r = np.append(r, a, axis=1)\n",
    "\n",
    "if r.shape[1] > 0:\n",
    "    r = np.pad(r, ((0,0),(0,tex_width * 2 - r.shape[1]),(0,0)), \"constant\")\n",
    "    c = np.append(c, r, axis=0)\n",
    "\n",
    "save_tex(r, c, tex_width, tex_num)"
   ]
  },
  {
   "cell_type": "markdown",
   "metadata": {},
   "source": [
    "## 色をテクスチャに書き込む"
   ]
  },
  {
   "cell_type": "code",
   "execution_count": 5,
   "metadata": {},
   "outputs": [],
   "source": [
    "cols = pc[[\"r\", \"g\", \"b\"]].values.reshape([-1, 1, 3])\n",
    "tex_num = np.ceil((len(cols)) / tex_width ** 2)\n",
    "tex_length = int(tex_num * (tex_width ** 2) - len(cols))\n",
    "col_texs = np.pad(cols, ((0,tex_length),(0,0),(0,0)), \"constant\")\n",
    "col_texs = np.array_split(col_texs, tex_num)\n",
    "\n",
    "for i, tex in enumerate(col_texs):\n",
    "    col_tex = np.reshape(tex, (tex_width, tex_width, 3))\n",
    "    col_tex = Image.fromarray(np.uint8(np.round(col_tex)))\n",
    "    col_tex.save(file_path + \"col\" + str(i) + \".png\")"
   ]
  },
  {
   "cell_type": "code",
   "execution_count": null,
   "metadata": {},
   "outputs": [],
   "source": []
  }
 ],
 "metadata": {
  "colab": {
   "authorship_tag": "ABX9TyOQMVa2/k3/kXsjVe0Fv2NW",
   "mount_file_id": "1O7fsEjdOCQFCG4uC0ZIq93hnhBypKPWn",
   "name": "pos_to_tex.ipynb",
   "provenance": []
  },
  "kernelspec": {
   "display_name": "Python 3",
   "language": "python",
   "name": "python3"
  },
  "language_info": {
   "codemirror_mode": {
    "name": "ipython",
    "version": 3
   },
   "file_extension": ".py",
   "mimetype": "text/x-python",
   "name": "python",
   "nbconvert_exporter": "python",
   "pygments_lexer": "ipython3",
   "version": "3.8.5"
  }
 },
 "nbformat": 4,
 "nbformat_minor": 4
}
