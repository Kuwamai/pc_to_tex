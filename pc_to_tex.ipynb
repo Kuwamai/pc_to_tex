{
 "cells": [
  {
   "cell_type": "markdown",
   "metadata": {},
   "source": [
    "# pc_to_tex\n",
    "## Usage\n"
   ]
  },
  {
   "cell_type": "code",
   "execution_count": 11,
   "metadata": {
    "executionInfo": {
     "elapsed": 823,
     "status": "ok",
     "timestamp": 1604748923037,
     "user": {
      "displayName": "Kuwagata Kuwamai",
      "photoUrl": "https://lh3.googleusercontent.com/a-/AOh14GjLA8hi9SezQboGVuTvdSnutMD-3-IwuV063OG4=s64",
      "userId": "01901402182521368572"
     },
     "user_tz": -540
    },
    "id": "1KzlxfyhjtZd"
   },
   "outputs": [],
   "source": [
    "import pandas as pd\n",
    "import numpy as np\n",
    "import matplotlib.pyplot as plt\n",
    "from PIL import Image\n",
    "import struct\n",
    "#from google.colab import drive"
   ]
  },
  {
   "cell_type": "markdown",
   "metadata": {},
   "source": []
  },
  {
   "cell_type": "code",
   "execution_count": 12,
   "metadata": {},
   "outputs": [],
   "source": [
    "#file_path = \"drive/My Drive/Colab Notebooks/pc_to_tex/\"\n",
    "file_path = \"./\"\n",
    "pc = pd.read_table(file_path + \"akihabara.asc\", sep=\" \", header=None, names=(\"y\", \"z\", \"x\", \"r\", \"g\", \"b\"))\n",
    "tex_width = 1024"
   ]
  },
  {
   "cell_type": "code",
   "execution_count": 13,
   "metadata": {},
   "outputs": [],
   "source": [
    "def save_tex(r, c, tex_width, tex_num):\n",
    "    pos_tex = np.pad(c, ((0, tex_width * 2 - c.shape[0]), (0,0), (0,0)), \"constant\")\n",
    "    pos_tex = Image.fromarray(np.uint8(np.round(pos_tex)))\n",
    "    pos_tex.save(file_path + \"pos\" + str(tex_num) + \".png\")"
   ]
  },
  {
   "cell_type": "code",
   "execution_count": 14,
   "metadata": {
    "executionInfo": {
     "elapsed": 18768,
     "status": "ok",
     "timestamp": 1604748974573,
     "user": {
      "displayName": "Kuwagata Kuwamai",
      "photoUrl": "https://lh3.googleusercontent.com/a-/AOh14GjLA8hi9SezQboGVuTvdSnutMD-3-IwuV063OG4=s64",
      "userId": "01901402182521368572"
     },
     "user_tz": -540
    },
    "id": "xez8yU9cyunH"
   },
   "outputs": [],
   "source": [
    "tex_num = 0\n",
    "\n",
    "for i, pos in enumerate(zip(pc[\"x\"], pc[\"y\"], pc[\"z\"])):\n",
    "    if i % tex_width ** 2 == 0:\n",
    "        if not i == 0:\n",
    "            save_tex(r, c, tex_width, tex_num)\n",
    "            tex_num += 1\n",
    "        \n",
    "        r = np.empty((2, 0, 3))\n",
    "        c = np.empty((0, tex_width * 2, 3))\n",
    "    \n",
    "    if i % tex_width * 2 == 0:\n",
    "        if not i % tex_width ** 2== 0:\n",
    "            c = np.append(c, r, axis=0)\n",
    "            r = np.empty((2, 0, 3))\n",
    "    \n",
    "    a = np.empty((2, 2, 0))\n",
    "    \n",
    "    for xyz in pos:\n",
    "        xs = struct.pack('>f', xyz)\n",
    "        xn = struct.unpack('>L', xs)[0]\n",
    "        b = np.array([[[xn >> 0 & 0xff],[xn >> 8 & 0xff]],\n",
    "                      [[xn >> 16 & 0xff],[xn >> 24 & 0xff]]])\n",
    "        a = np.append(a, b, axis=2)\n",
    "    \n",
    "    r = np.append(r, a, axis=1)\n",
    "\n",
    "if r.shape[1] > 0:\n",
    "    r = np.pad(r, ((0,0),(0,tex_width * 2 - r.shape[1]),(0,0)), \"constant\")\n",
    "    c = np.append(c, r, axis=0)\n",
    "\n",
    "save_tex(r, c, tex_width, tex_num)"
   ]
  },
  {
   "cell_type": "code",
   "execution_count": 15,
   "metadata": {},
   "outputs": [],
   "source": [
    "col = pc[[\"r\", \"g\", \"b\"]].values.reshape([-1, 1, 3])\n",
    "tex_num = np.ceil((len(col)) / tex_width ** 2)\n",
    "tex_length = int(tex_num * (tex_width ** 2) - len(col))\n",
    "col_tex = np.pad(col, ((0,tex_length),(0,0),(0,0)), \"constant\")\n",
    "col_tex = np.array_split(col_tex, tex_num)\n",
    "\n",
    "for i, tex in enumerate(col_texs):\n",
    "    col_tex = np.reshape(tex, (tex_width, tex_width, 3))\n",
    "    col_tex = Image.fromarray(np.uint8(np.round(col_tex)))\n",
    "    col_tex.save(file_path + \"col\" + str(i) + \".png\")"
   ]
  },
  {
   "cell_type": "code",
   "execution_count": null,
   "metadata": {},
   "outputs": [],
   "source": []
  }
 ],
 "metadata": {
  "colab": {
   "authorship_tag": "ABX9TyOQMVa2/k3/kXsjVe0Fv2NW",
   "mount_file_id": "1O7fsEjdOCQFCG4uC0ZIq93hnhBypKPWn",
   "name": "pos_to_tex.ipynb",
   "provenance": []
  },
  "kernelspec": {
   "display_name": "Python 3",
   "language": "python",
   "name": "python3"
  },
  "language_info": {
   "codemirror_mode": {
    "name": "ipython",
    "version": 3
   },
   "file_extension": ".py",
   "mimetype": "text/x-python",
   "name": "python",
   "nbconvert_exporter": "python",
   "pygments_lexer": "ipython3",
   "version": "3.6.9"
  }
 },
 "nbformat": 4,
 "nbformat_minor": 4
}
